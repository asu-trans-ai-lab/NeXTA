{
 "cells": [
  {
   "cell_type": "code",
   "execution_count": 1,
   "metadata": {},
   "outputs": [],
   "source": [
    "import tensorflow as tf\n",
    "import numpy as np\n",
    "import matplotlib.pyplot as plt\n",
    "import random\n",
    "from tensorflow.keras.datasets import boston_housing"
   ]
  },
  {
   "cell_type": "markdown",
   "metadata": {},
   "source": [
    "**Linear Regression**\n",
    "\\begin{equation}\n",
    "y = mx + b\n",
    "\\end{equation}\n",
    "\n",
    "**Mean Squared Error**\n",
    "\\begin{equation}\n",
    "MSE = \\frac{1}{N}\\sum_{i=0}^{N}({\\hat{y} - y_{i}})^2\n",
    "\\end{equation}"
   ]
  },
  {
   "cell_type": "code",
   "execution_count": 2,
   "metadata": {
    "scrolled": true
   },
   "outputs": [
    {
     "data": {
      "image/png": "[encoded data removed]",
      "text/plain": [
       "<Figure size 432x288 with 1 Axes>"
      ]
     },
     "metadata": {
      "needs_background": "light"
     },
     "output_type": "display_data"
    }
   ],
   "source": [
    "# Create data points\n",
    "np.random.seed(0)\n",
    "n = 100\n",
    "x = np.arange(-n/2,n/2,1, dtype=np.float64)\n",
    "\n",
    "# Randomly distributed parameters\n",
    "m_true = np.random.uniform(0, 1, (n,))\n",
    "b_true = np.random.uniform(0, 10, (n,))\n",
    "\n",
    "y = m_true*x + b_true \n",
    "\n",
    "# Data points\n",
    "plt.scatter(x,y)\n",
    "plt.show()\n",
    "\n",
    "# Save the train and the true points\n",
    "x_train = np.array(x, dtype=np.float32)\n",
    "y_true = np.array(y, dtype=np.float32)"
   ]
  },
  {
   "cell_type": "code",
   "execution_count": 3,
   "metadata": {},
   "outputs": [],
   "source": [
    "# Define unknown parameters (Linear Regression)\n",
    "m = tf.Variable(0., dtype=np.float32, name='slope')\n",
    "b = tf.Variable(0., dtype=np.float32, name='intercept')\n",
    "params = [m, b]\n",
    "\n",
    "# Define the linear regression formula\n",
    "@tf.function\n",
    "def model_fun(x_train, params):\n",
    "    return tf.math.add(tf.math.multiply(params[0], x_train), params[1])\n",
    "    \n",
    "# Define the loss function (mean squared error)\n",
    "\n",
    "def mse(y_true, y_hat):\n",
    "    return tf.reduce_mean(tf.square(y_true-y_hat))\n",
    "\n",
    "# Update the parameters\n",
    "\n",
    "def update_params(x_train, y_true, params, learning_rate):\n",
    "    \n",
    "    # To use multiple calls for grad.gradient()\n",
    "    with tf.GradientTape(persistent=True) as grad:\n",
    "        loss = mse(y_true, model_fun(x_train, params))\n",
    "    \n",
    "    print(\"Loss: \", loss)\n",
    "    \n",
    "    # Gradients of the linear regression\n",
    "    dy_dm = grad.gradient(loss, params[0])\n",
    "    dy_db = grad.gradient(loss, params[1])\n",
    "    \n",
    "    params[0].assign_sub(learning_rate * dy_dm)\n",
    "    params[1].assign_sub(learning_rate * dy_db)\n",
    "\n",
    "# Train the model\n",
    "\n",
    "def train(x_train, y_true, params, learning_rate=0.01, epoch=10):\n",
    "    \n",
    "    params[0].assign(1, )\n",
    "    params[1].assign(1, )\n",
    "    \n",
    "    for i in range(epoch):\n",
    "        print(\"Train Epoch: \", i)\n",
    "        update_params(x_train, y_true, params, learning_rate)"
   ]
  },
  {
   "cell_type": "code",
   "execution_count": 4,
   "metadata": {
    "scrolled": true
   },
   "outputs": [
    {
     "name": "stdout",
     "output_type": "stream",
     "text": [
      "Train Epoch:  0\n",
      "Loss:  tf.Tensor(310.20728, shape=(), dtype=float32)\n",
      "Train Epoch:  1\n",
      "Loss:  tf.Tensor(182.19624, shape=(), dtype=float32)\n",
      "Train Epoch:  2\n",
      "Loss:  tf.Tensor(125.23498, shape=(), dtype=float32)\n",
      "Train Epoch:  3\n",
      "Loss:  tf.Tensor(99.883125, shape=(), dtype=float32)\n",
      "Train Epoch:  4\n",
      "Loss:  tf.Tensor(88.594, shape=(), dtype=float32)\n",
      "Train Epoch:  5\n",
      "Loss:  tf.Tensor(83.56129, shape=(), dtype=float32)\n",
      "Train Epoch:  6\n",
      "Loss:  tf.Tensor(81.31201, shape=(), dtype=float32)\n",
      "Train Epoch:  7\n",
      "Loss:  tf.Tensor(80.30112, shape=(), dtype=float32)\n",
      "Train Epoch:  8\n",
      "Loss:  tf.Tensor(79.841194, shape=(), dtype=float32)\n",
      "Train Epoch:  9\n",
      "Loss:  tf.Tensor(79.62645, shape=(), dtype=float32)\n",
      "Train Epoch:  10\n",
      "Loss:  tf.Tensor(79.52081, shape=(), dtype=float32)\n",
      "Train Epoch:  11\n",
      "Loss:  tf.Tensor(79.46375, shape=(), dtype=float32)\n",
      "Train Epoch:  12\n",
      "Loss:  tf.Tensor(79.42835, shape=(), dtype=float32)\n",
      "Train Epoch:  13\n",
      "Loss:  tf.Tensor(79.40262, shape=(), dtype=float32)\n",
      "Train Epoch:  14\n",
      "Loss:  tf.Tensor(79.38124, shape=(), dtype=float32)\n",
      "Train Epoch:  15\n",
      "Loss:  tf.Tensor(79.361824, shape=(), dtype=float32)\n",
      "Train Epoch:  16\n",
      "Loss:  tf.Tensor(79.34334, shape=(), dtype=float32)\n",
      "Train Epoch:  17\n",
      "Loss:  tf.Tensor(79.32529, shape=(), dtype=float32)\n",
      "Train Epoch:  18\n",
      "Loss:  tf.Tensor(79.30747, shape=(), dtype=float32)\n",
      "Train Epoch:  19\n",
      "Loss:  tf.Tensor(79.2898, shape=(), dtype=float32)\n",
      "Train Epoch:  20\n",
      "Loss:  tf.Tensor(79.272255, shape=(), dtype=float32)\n",
      "Train Epoch:  21\n",
      "Loss:  tf.Tensor(79.25477, shape=(), dtype=float32)\n",
      "Train Epoch:  22\n",
      "Loss:  tf.Tensor(79.23737, shape=(), dtype=float32)\n",
      "Train Epoch:  23\n",
      "Loss:  tf.Tensor(79.22004, shape=(), dtype=float32)\n",
      "Train Epoch:  24\n",
      "Loss:  tf.Tensor(79.20278, shape=(), dtype=float32)\n",
      "Train Epoch:  25\n",
      "Loss:  tf.Tensor(79.18559, shape=(), dtype=float32)\n",
      "Train Epoch:  26\n",
      "Loss:  tf.Tensor(79.16848, shape=(), dtype=float32)\n",
      "Train Epoch:  27\n",
      "Loss:  tf.Tensor(79.15143, shape=(), dtype=float32)\n",
      "Train Epoch:  28\n",
      "Loss:  tf.Tensor(79.134445, shape=(), dtype=float32)\n",
      "Train Epoch:  29\n",
      "Loss:  tf.Tensor(79.11753, shape=(), dtype=float32)\n",
      "Train Epoch:  30\n",
      "Loss:  tf.Tensor(79.100685, shape=(), dtype=float32)\n",
      "Train Epoch:  31\n",
      "Loss:  tf.Tensor(79.08391, shape=(), dtype=float32)\n",
      "Train Epoch:  32\n",
      "Loss:  tf.Tensor(79.06719, shape=(), dtype=float32)\n",
      "Train Epoch:  33\n",
      "Loss:  tf.Tensor(79.050545, shape=(), dtype=float32)\n",
      "Train Epoch:  34\n",
      "Loss:  tf.Tensor(79.03397, shape=(), dtype=float32)\n",
      "Train Epoch:  35\n",
      "Loss:  tf.Tensor(79.01746, shape=(), dtype=float32)\n",
      "Train Epoch:  36\n",
      "Loss:  tf.Tensor(79.001015, shape=(), dtype=float32)\n",
      "Train Epoch:  37\n",
      "Loss:  tf.Tensor(78.98463, shape=(), dtype=float32)\n",
      "Train Epoch:  38\n",
      "Loss:  tf.Tensor(78.96831, shape=(), dtype=float32)\n",
      "Train Epoch:  39\n",
      "Loss:  tf.Tensor(78.95206, shape=(), dtype=float32)\n",
      "Train Epoch:  40\n",
      "Loss:  tf.Tensor(78.93588, shape=(), dtype=float32)\n",
      "Train Epoch:  41\n",
      "Loss:  tf.Tensor(78.919754, shape=(), dtype=float32)\n",
      "Train Epoch:  42\n",
      "Loss:  tf.Tensor(78.9037, shape=(), dtype=float32)\n",
      "Train Epoch:  43\n",
      "Loss:  tf.Tensor(78.8877, shape=(), dtype=float32)\n",
      "Train Epoch:  44\n",
      "Loss:  tf.Tensor(78.87178, shape=(), dtype=float32)\n",
      "Train Epoch:  45\n",
      "Loss:  tf.Tensor(78.85592, shape=(), dtype=float32)\n",
      "Train Epoch:  46\n",
      "Loss:  tf.Tensor(78.84011, shape=(), dtype=float32)\n",
      "Train Epoch:  47\n",
      "Loss:  tf.Tensor(78.82437, shape=(), dtype=float32)\n",
      "Train Epoch:  48\n",
      "Loss:  tf.Tensor(78.80869, shape=(), dtype=float32)\n",
      "Train Epoch:  49\n",
      "Loss:  tf.Tensor(78.79308, shape=(), dtype=float32)\n",
      "Train Epoch:  50\n",
      "Loss:  tf.Tensor(78.777534, shape=(), dtype=float32)\n",
      "Train Epoch:  51\n",
      "Loss:  tf.Tensor(78.76205, shape=(), dtype=float32)\n",
      "Train Epoch:  52\n",
      "Loss:  tf.Tensor(78.74662, shape=(), dtype=float32)\n",
      "Train Epoch:  53\n",
      "Loss:  tf.Tensor(78.73125, shape=(), dtype=float32)\n",
      "Train Epoch:  54\n",
      "Loss:  tf.Tensor(78.71595, shape=(), dtype=float32)\n",
      "Train Epoch:  55\n",
      "Loss:  tf.Tensor(78.70071, shape=(), dtype=float32)\n",
      "Train Epoch:  56\n",
      "Loss:  tf.Tensor(78.68553, shape=(), dtype=float32)\n",
      "Train Epoch:  57\n",
      "Loss:  tf.Tensor(78.67041, shape=(), dtype=float32)\n",
      "Train Epoch:  58\n",
      "Loss:  tf.Tensor(78.65535, shape=(), dtype=float32)\n",
      "Train Epoch:  59\n",
      "Loss:  tf.Tensor(78.64035, shape=(), dtype=float32)\n",
      "Train Epoch:  60\n",
      "Loss:  tf.Tensor(78.625404, shape=(), dtype=float32)\n",
      "Train Epoch:  61\n",
      "Loss:  tf.Tensor(78.61053, shape=(), dtype=float32)\n",
      "Train Epoch:  62\n",
      "Loss:  tf.Tensor(78.5957, shape=(), dtype=float32)\n",
      "Train Epoch:  63\n",
      "Loss:  tf.Tensor(78.58094, shape=(), dtype=float32)\n",
      "Train Epoch:  64\n",
      "Loss:  tf.Tensor(78.56624, shape=(), dtype=float32)\n",
      "Train Epoch:  65\n",
      "Loss:  tf.Tensor(78.5516, shape=(), dtype=float32)\n",
      "Train Epoch:  66\n",
      "Loss:  tf.Tensor(78.53701, shape=(), dtype=float32)\n",
      "Train Epoch:  67\n",
      "Loss:  tf.Tensor(78.522484, shape=(), dtype=float32)\n",
      "Train Epoch:  68\n",
      "Loss:  tf.Tensor(78.50801, shape=(), dtype=float32)\n",
      "Train Epoch:  69\n",
      "Loss:  tf.Tensor(78.4936, shape=(), dtype=float32)\n",
      "Train Epoch:  70\n",
      "Loss:  tf.Tensor(78.47925, shape=(), dtype=float32)\n",
      "Train Epoch:  71\n",
      "Loss:  tf.Tensor(78.46494, shape=(), dtype=float32)\n",
      "Train Epoch:  72\n",
      "Loss:  tf.Tensor(78.450714, shape=(), dtype=float32)\n",
      "Train Epoch:  73\n",
      "Loss:  tf.Tensor(78.43652, shape=(), dtype=float32)\n",
      "Train Epoch:  74\n",
      "Loss:  tf.Tensor(78.42239, shape=(), dtype=float32)\n",
      "Train Epoch:  75\n",
      "Loss:  tf.Tensor(78.40833, shape=(), dtype=float32)\n",
      "Train Epoch:  76\n",
      "Loss:  tf.Tensor(78.39432, shape=(), dtype=float32)\n",
      "Train Epoch:  77\n",
      "Loss:  tf.Tensor(78.380356, shape=(), dtype=float32)\n",
      "Train Epoch:  78\n",
      "Loss:  tf.Tensor(78.366455, shape=(), dtype=float32)\n",
      "Train Epoch:  79\n",
      "Loss:  tf.Tensor(78.352615, shape=(), dtype=float32)\n",
      "Train Epoch:  80\n",
      "Loss:  tf.Tensor(78.33882, shape=(), dtype=float32)\n",
      "Train Epoch:  81\n",
      "Loss:  tf.Tensor(78.32509, shape=(), dtype=float32)\n",
      "Train Epoch:  82\n",
      "Loss:  tf.Tensor(78.31141, shape=(), dtype=float32)\n",
      "Train Epoch:  83\n",
      "Loss:  tf.Tensor(78.29777, shape=(), dtype=float32)\n",
      "Train Epoch:  84\n",
      "Loss:  tf.Tensor(78.2842, shape=(), dtype=float32)\n",
      "Train Epoch:  85\n",
      "Loss:  tf.Tensor(78.27069, shape=(), dtype=float32)\n",
      "Train Epoch:  86\n",
      "Loss:  tf.Tensor(78.257225, shape=(), dtype=float32)\n",
      "Train Epoch:  87\n",
      "Loss:  tf.Tensor(78.243805, shape=(), dtype=float32)\n",
      "Train Epoch:  88\n",
      "Loss:  tf.Tensor(78.23045, shape=(), dtype=float32)\n",
      "Train Epoch:  89\n",
      "Loss:  tf.Tensor(78.217155, shape=(), dtype=float32)\n",
      "Train Epoch:  90\n",
      "Loss:  tf.Tensor(78.2039, shape=(), dtype=float32)\n",
      "Train Epoch:  91\n",
      "Loss:  tf.Tensor(78.190704, shape=(), dtype=float32)\n",
      "Train Epoch:  92\n",
      "Loss:  tf.Tensor(78.17757, shape=(), dtype=float32)\n",
      "Train Epoch:  93\n",
      "Loss:  tf.Tensor(78.164474, shape=(), dtype=float32)\n",
      "Train Epoch:  94\n",
      "Loss:  tf.Tensor(78.15143, shape=(), dtype=float32)\n",
      "Train Epoch:  95\n",
      "Loss:  tf.Tensor(78.13845, shape=(), dtype=float32)\n",
      "Train Epoch:  96\n",
      "Loss:  tf.Tensor(78.12551, shape=(), dtype=float32)\n",
      "Train Epoch:  97\n",
      "Loss:  tf.Tensor(78.112625, shape=(), dtype=float32)\n",
      "Train Epoch:  98\n",
      "Loss:  tf.Tensor(78.09979, shape=(), dtype=float32)\n",
      "Train Epoch:  99\n",
      "Loss:  tf.Tensor(78.08701, shape=(), dtype=float32)\n"
     ]
    }
   ],
   "source": [
    "train(x_train, y_true, params, learning_rate=0.001, epoch=100)"
   ]
  },
  {
   "cell_type": "code",
   "execution_count": 5,
   "metadata": {},
   "outputs": [
    {
     "data": {
      "text/plain": [
       "[<matplotlib.lines.Line2D at 0x19562a2d710>]"
      ]
     },
     "execution_count": 5,
     "metadata": {},
     "output_type": "execute_result"
    },
    {
     "data": {
      "image/png": "[encoded data removed]",
      "text/plain": [
       "<Figure size 432x288 with 1 Axes>"
      ]
     },
     "metadata": {
      "needs_background": "light"
     },
     "output_type": "display_data"
    }
   ],
   "source": [
    "# Check the regression and the data\n",
    "plt.plot(y)\n",
    "plt.plot(params[0]*x_train+params[1])"
   ]
  },
  {
   "cell_type": "code",
   "execution_count": 6,
   "metadata": {},
   "outputs": [
    {
     "data": {
      "text/plain": [
       "[<tf.Variable 'slope:0' shape=() dtype=float32, numpy=0.47428155>,\n",
       " <tf.Variable 'intercept:0' shape=() dtype=float32, numpy=1.3951185>]"
      ]
     },
     "execution_count": 6,
     "metadata": {},
     "output_type": "execute_result"
    }
   ],
   "source": [
    "params"
   ]
  },
  {
   "cell_type": "code",
   "execution_count": null,
   "metadata": {},
   "outputs": [],
   "source": []
  }
 ],
 "metadata": {
  "kernelspec": {
   "display_name": "Python 3",
   "language": "python",
   "name": "python3"
  },
  "language_info": {
   "codemirror_mode": {
    "name": "ipython",
    "version": 3
   },
   "file_extension": ".py",
   "mimetype": "text/x-python",
   "name": "python",
   "nbconvert_exporter": "python",
   "pygments_lexer": "ipython3",
   "version": "3.6.10"
  }
 },
 "nbformat": 4,
 "nbformat_minor": 4
}
